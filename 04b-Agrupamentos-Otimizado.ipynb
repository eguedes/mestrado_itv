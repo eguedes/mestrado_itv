{
 "cells": [
  {
   "cell_type": "code",
   "execution_count": 60,
   "metadata": {},
   "outputs": [],
   "source": [
    "# Importa as bibliotecas\n",
    "import pandas as pd\n",
    "import numpy as np"
   ]
  },
  {
   "cell_type": "code",
   "execution_count": 177,
   "metadata": {},
   "outputs": [],
   "source": [
    "pasta = 'Delay/05-Maio/'"
   ]
  },
  {
   "cell_type": "code",
   "execution_count": 178,
   "metadata": {},
   "outputs": [],
   "source": [
    "# Faz a leitura dos dados\n",
    "target = pd.read_excel(pasta + 'T_Conceicao.xlsx')\n",
    "\n",
    "\n",
    "nivel_cx_alimentacao = pd.read_excel(pasta + 'CA_Nivel.xlsx')\n",
    "\n",
    "densidade_cx_alimentacao = pd.read_excel(pasta + 'CA_Densidade.xlsx')\n",
    "\n",
    "vazao_vol_cx_alimentacao = pd.read_excel(pasta + 'CA_Vazao_Vol.xlsx')\n",
    "\n",
    "# vazao_mas_cx_alimentacao = pd.read_excel(pasta + 'CA_Vazao_Mas.xlsx')\n",
    "\n",
    "vazao_amina_cx_alimentacao = pd.read_excel(pasta + 'CA_Vazao_Amina.xlsx')\n",
    "\n",
    "vazao_amido_cx_alimentacao = pd.read_excel(pasta + 'CA_Vazao_Amido.xlsx')"
   ]
  },
  {
   "cell_type": "code",
   "execution_count": 179,
   "metadata": {},
   "outputs": [],
   "source": [
    "# lista = [nivel_cx_alimentacao, densidade_cx_alimentacao, vazao_vol_cx_alimentacao,\n",
    "#         vazao_mas_cx_alimentacao, vazao_amina_cx_alimentacao, vazao_amido_cx_alimentacao]\n",
    "lista = [nivel_cx_alimentacao, densidade_cx_alimentacao, vazao_vol_cx_alimentacao,\n",
    "         vazao_amina_cx_alimentacao, vazao_amido_cx_alimentacao]"
   ]
  },
  {
   "cell_type": "code",
   "execution_count": 180,
   "metadata": {},
   "outputs": [],
   "source": [
    "# nivel_cx_recirculacao = pd.read_excel(pasta + 'CR_Nivel.xlsx')\n",
    "\n",
    "densidade_cx_recirculacao = pd.read_excel(pasta + 'CR_Densidade.xlsx')\n",
    "\n",
    "vazao_vol_cx_recirculacao = pd.read_excel(pasta + 'CR_Vazao_Vol.xlsx')\n",
    "\n",
    "# vazao_mas_cx_recirculacao = pd.read_excel(pasta + 'CR_Vazao_Mas.xlsx')"
   ]
  },
  {
   "cell_type": "code",
   "execution_count": 181,
   "metadata": {},
   "outputs": [],
   "source": [
    "# lista.append(nivel_cx_recirculacao)\n",
    "lista.append(densidade_cx_recirculacao)\n",
    "lista.append(vazao_vol_cx_recirculacao)\n",
    "# lista.append(vazao_mas_cx_recirculacao)"
   ]
  },
  {
   "cell_type": "code",
   "execution_count": 182,
   "metadata": {
    "scrolled": true
   },
   "outputs": [],
   "source": [
    "nivel_espuma_rougher1 = pd.read_excel(pasta + 'R1_Nivel_Espuma.xlsx')\n",
    "\n",
    "# vazao_ar_rougher1 = pd.read_excel(pasta + 'R1_Vazao_Ar.xlsx')\n",
    "\n",
    "# valvula_dardo1_rougher1 = pd.read_excel(pasta + 'R1_Valv_Dardo1.xlsx')\n",
    "\n",
    "# valvula_dardo2_rougher1 = pd.read_excel(pasta + 'R1_Valv_Dardo2.xlsx')\n",
    "\n",
    "# valvula_ar_rougher1 = pd.read_excel(pasta + 'R1_Valv_Ar.xlsx')"
   ]
  },
  {
   "cell_type": "code",
   "execution_count": 183,
   "metadata": {},
   "outputs": [],
   "source": [
    "#Verificar cabeçalhos\n",
    "lista.append(nivel_espuma_rougher1)\n",
    "# lista.append(vazao_ar_rougher1)\n",
    "# lista.append(valvula_dardo1_rougher1)\n",
    "# lista.append(valvula_dardo2_rougher1)\n",
    "# lista.append(valvula_ar_rougher1)"
   ]
  },
  {
   "cell_type": "code",
   "execution_count": 184,
   "metadata": {},
   "outputs": [],
   "source": [
    "nivel_espuma_rougher2 = pd.read_excel(pasta + 'R2_Nivel_Espuma.xlsx')\n",
    "\n",
    "# vazao_ar_rougher2 = pd.read_excel(pasta + 'R2_Vazao_Ar.xlsx')\n",
    "\n",
    "# valvula_dardo1_rougher2 = pd.read_excel(pasta + 'R2_Valv_Dardo1.xlsx')\n",
    "\n",
    "# valvula_dardo2_rougher2 = pd.read_excel(pasta + 'R2_Valv_Dardo2.xlsx')\n",
    "\n",
    "# valvula_ar_rougher2 = pd.read_excel(pasta + 'R2_Valv_Ar.xlsx')"
   ]
  },
  {
   "cell_type": "code",
   "execution_count": 185,
   "metadata": {},
   "outputs": [],
   "source": [
    "lista.append(nivel_espuma_rougher2)\n",
    "# lista.append(vazao_ar_rougher2)\n",
    "# lista.append(valvula_dardo1_rougher2)\n",
    "# lista.append(valvula_dardo2_rougher2)\n",
    "# lista.append(valvula_ar_rougher2)"
   ]
  },
  {
   "cell_type": "code",
   "execution_count": 186,
   "metadata": {},
   "outputs": [],
   "source": [
    "nivel_espuma_cleaner1 = pd.read_excel(pasta + 'C1_Nivel_Espuma.xlsx')\n",
    "\n",
    "# vazao_ar_cleaner1 = pd.read_excel(pasta + 'C1_Vazao_Ar.xlsx')\n",
    "\n",
    "valvula_dardo1_cleaner1 = pd.read_excel(pasta + 'C1_Valv_Dardo1.xlsx')\n",
    "\n",
    "# valvula_dardo2_cleaner1 = pd.read_excel(pasta + 'C1_Valv_Dardo2.xlsx')\n",
    "\n",
    "# valvula_ar_cleaner1 = pd.read_excel(pasta + 'C1_Valv_Ar.xlsx')"
   ]
  },
  {
   "cell_type": "code",
   "execution_count": 187,
   "metadata": {},
   "outputs": [],
   "source": [
    "lista.append(nivel_espuma_cleaner1)\n",
    "# lista.append(vazao_ar_cleaner1)\n",
    "lista.append(valvula_dardo1_cleaner1)\n",
    "# lista.append(valvula_dardo2_cleaner1)\n",
    "# lista.append(valvula_ar_cleaner1)"
   ]
  },
  {
   "cell_type": "code",
   "execution_count": 188,
   "metadata": {},
   "outputs": [],
   "source": [
    "# nivel_espuma_cleaner2 = pd.read_excel(pasta + 'C2_Nivel_Espuma.xlsx')\n",
    "\n",
    "# vazao_ar_cleaner2 = pd.read_excel(pasta + 'C2_Vazao_Ar.xlsx')\n",
    "\n",
    "# valvula_dardo1_cleaner2 = pd.read_excel(pasta + 'C2_Valv_Dardo1.xlsx')\n",
    "\n",
    "# valvula_dardo2_cleaner2 = pd.read_excel(pasta + 'C2_Valv_Dardo2.xlsx')\n",
    "\n",
    "# valvula_ar_cleaner2 = pd.read_excel(pasta + 'C2_Valv_Ar.xlsx')"
   ]
  },
  {
   "cell_type": "code",
   "execution_count": 189,
   "metadata": {},
   "outputs": [],
   "source": [
    "# lista.append(nivel_espuma_cleaner2)\n",
    "# lista.append(vazao_ar_cleaner2)\n",
    "# lista.append(valvula_dardo1_cleaner2)\n",
    "# lista.append(valvula_dardo2_cleaner2)\n",
    "# lista.append(valvula_ar_cleaner2)"
   ]
  },
  {
   "cell_type": "code",
   "execution_count": 190,
   "metadata": {},
   "outputs": [],
   "source": [
    "nivel_espuma_recleaner = pd.read_excel(pasta + 'RC_Nivel_Espuma.xlsx')\n",
    "\n",
    "# vazao_ar_recleaner = pd.read_excel(pasta + 'RC_Vazao_Ar.xlsx')\n",
    "\n",
    "# valvula_dardo1_recleaner = pd.read_excel(pasta + 'RC_Valv_Dardo1.xlsx')\n",
    "\n",
    "# valvula_dardo2_recleaner = pd.read_excel(pasta + 'RC_Valv_Dardo2.xlsx')\n",
    "\n",
    "# valvula_ar_recleaner = pd.read_excel(pasta + 'RC_Valv_Ar.xlsx')"
   ]
  },
  {
   "cell_type": "code",
   "execution_count": 191,
   "metadata": {},
   "outputs": [],
   "source": [
    "lista.append(nivel_espuma_recleaner)\n",
    "# lista.append(vazao_ar_recleaner)\n",
    "# lista.append(valvula_dardo1_recleaner)\n",
    "# lista.append(valvula_dardo2_recleaner)\n",
    "# lista.append(valvula_ar_recleaner)"
   ]
  },
  {
   "cell_type": "code",
   "execution_count": 192,
   "metadata": {},
   "outputs": [],
   "source": [
    "# nivel_espuma_scavenger1b1 = pd.read_excel(pasta + 'S1B1_Nivel_Espuma.xlsx')\n",
    "\n",
    "# vazao_ar_scavenger1b1 = pd.read_excel(pasta + 'S1B1_Vazao_Ar.xlsx') TUDO ZERO\n",
    "\n",
    "# valvula_dardo1_scavenger1b1 = pd.read_excel(pasta + 'S1B1_Valv_Dardo1.xlsx')\n",
    "\n",
    "# valvula_dardo2_scavenger1b1 = pd.read_excel(pasta + 'S1B1_Valv_Dardo2.xlsx')\n",
    "\n",
    "# valvula_ar_scavenger1b1 = pd.read_excel(pasta + 'S1B1_Valv_Ar.xlsx')"
   ]
  },
  {
   "cell_type": "code",
   "execution_count": 193,
   "metadata": {},
   "outputs": [],
   "source": [
    "# lista.append(nivel_espuma_scavenger1b1)\n",
    "# lista.append(vazao_ar_scavenger1b1) TUDO ZERO\n",
    "# lista.append(valvula_dardo1_scavenger1b1)\n",
    "# lista.append(valvula_dardo2_scavenger1b1)\n",
    "# lista.append(valvula_ar_scavenger1b1)"
   ]
  },
  {
   "cell_type": "code",
   "execution_count": 194,
   "metadata": {},
   "outputs": [],
   "source": [
    "nivel_espuma_scavenger1b2 = pd.read_excel(pasta + 'S1B2_Nivel_Espuma.xlsx')\n",
    "\n",
    "# vazao_ar_scavenger1b2 = pd.read_excel(pasta + 'S1B2_Vazao_Ar.xlsx')\n",
    "\n",
    "# valvula_dardo1_scavenger1b2 = pd.read_excel(pasta + 'S1B2_Valv_Dardo1.xlsx')\n",
    "\n",
    "# valvula_dardo2_scavenger1b2 = pd.read_excel(pasta + 'S1B2_Valv_Dardo2.xlsx')\n",
    "\n",
    "# valvula_ar_scavenger1b2 = pd.read_excel(pasta + 'S1B2_Valv_Ar.xlsx')"
   ]
  },
  {
   "cell_type": "code",
   "execution_count": 195,
   "metadata": {},
   "outputs": [],
   "source": [
    "lista.append(nivel_espuma_scavenger1b2)\n",
    "# lista.append(vazao_ar_scavenger1b2)\n",
    "# lista.append(valvula_dardo1_scavenger1b2)\n",
    "# lista.append(valvula_dardo2_scavenger1b2)\n",
    "# lista.append(valvula_ar_scavenger1b2)"
   ]
  },
  {
   "cell_type": "code",
   "execution_count": 196,
   "metadata": {},
   "outputs": [],
   "source": [
    "nivel_espuma_scavenger1b3 = pd.read_excel(pasta + 'S1B3_Nivel_Espuma.xlsx')\n",
    "\n",
    "# vazao_ar_scavenger1b3 = pd.read_excel(pasta + 'S1B3_Vazao_Ar.xlsx') TUDO ZERO\n",
    "\n",
    "# valvula_dardo1_scavenger1b3 = pd.read_excel(pasta + 'S1B3_Valv_Dardo1.xlsx')\n",
    "\n",
    "# valvula_dardo2_scavenger1b3 = pd.read_excel(pasta + 'S1B3_Valv_Dardo2.xlsx')\n",
    "\n",
    "# valvula_ar_scavenger1b3 = pd.read_excel(pasta + 'S1B3_Valv_Ar.xlsx')"
   ]
  },
  {
   "cell_type": "code",
   "execution_count": 197,
   "metadata": {},
   "outputs": [],
   "source": [
    "lista.append(nivel_espuma_scavenger1b3)\n",
    "# lista.append(vazao_ar_scavenger1b3) TUDO ZERO\n",
    "# lista.append(valvula_dardo1_scavenger1b3)\n",
    "# lista.append(valvula_dardo2_scavenger1b3)\n",
    "# lista.append(valvula_ar_scavenger1b3)"
   ]
  },
  {
   "cell_type": "code",
   "execution_count": 198,
   "metadata": {},
   "outputs": [],
   "source": [
    "# nivel_espuma_scavenger2b1 = pd.read_excel(pasta + 'S2B1_Nivel_Espuma.xlsx')\n",
    "\n",
    "# vazao_ar_scavenger2b1 = pd.read_excel(pasta + 'S2B1_Vazao_Ar.xlsx') TUDO ZERO\n",
    "\n",
    "# valvula_dardo1_scavenger2b1 = pd.read_excel(pasta + 'S2B1_Valv_Dardo1.xlsx')\n",
    "\n",
    "# valvula_dardo2_scavenger2b1 = pd.read_excel(pasta + 'S2B1_Valv_Dardo2.xlsx')\n",
    "\n",
    "# valvula_ar_scavenger2b1 = pd.read_excel(pasta + 'S2B1_Valv_Ar.xlsx')"
   ]
  },
  {
   "cell_type": "code",
   "execution_count": 199,
   "metadata": {},
   "outputs": [],
   "source": [
    "# lista.append(nivel_espuma_scavenger2b1)\n",
    "# lista.append(vazao_ar_scavenger2b1) TUDO ZERO\n",
    "# lista.append(valvula_dardo1_scavenger2b1)\n",
    "# lista.append(valvula_dardo2_scavenger2b1)\n",
    "# lista.append(valvula_ar_scavenger2b1)"
   ]
  },
  {
   "cell_type": "code",
   "execution_count": 200,
   "metadata": {},
   "outputs": [],
   "source": [
    "# nivel_espuma_scavenger2b2 = pd.read_excel(pasta + 'S2B2_Nivel_Espuma.xlsx')\n",
    "\n",
    "# vazao_ar_scavenger2b2 = pd.read_excel(pasta + 'S2B2_Vazao_Ar.xlsx')\n",
    "\n",
    "# valvula_dardo1_scavenger2b2 = pd.read_excel(pasta + 'S2B2_Valv_Dardo1.xlsx')\n",
    "\n",
    "# valvula_dardo2_scavenger2b2 = pd.read_excel(pasta + 'S2B2_Valv_Dardo2.xlsx')\n",
    "\n",
    "# valvula_ar_scavenger2b2 = pd.read_excel(pasta + 'S2B2_Valv_Ar.xlsx')"
   ]
  },
  {
   "cell_type": "code",
   "execution_count": 201,
   "metadata": {},
   "outputs": [],
   "source": [
    "# lista.append(nivel_espuma_scavenger2b2)\n",
    "# lista.append(vazao_ar_scavenger2b2)\n",
    "# lista.append(valvula_dardo1_scavenger2b2)\n",
    "# lista.append(valvula_dardo2_scavenger2b2)\n",
    "# lista.append(valvula_ar_scavenger2b2)"
   ]
  },
  {
   "cell_type": "code",
   "execution_count": 202,
   "metadata": {},
   "outputs": [],
   "source": [
    "# nivel_espuma_scavenger2b3 = pd.read_excel(pasta + 'S2B3_Nivel_Espuma.xlsx')\n",
    "\n",
    "vazao_ar_scavenger2b3 = pd.read_excel(pasta + 'S2B3_Vazao_Ar.xlsx')\n",
    "\n",
    "# valvula_dardo1_scavenger2b3 = pd.read_excel(pasta + 'S2B3_Valv_Dardo1.xlsx')\n",
    "\n",
    "# valvula_dardo2_scavenger2b3 = pd.read_excel(pasta + 'S2B3_Valv_Dardo2.xlsx')\n",
    "\n",
    "# valvula_ar_scavenger2b3 = pd.read_excel(pasta + 'S2B3_Valv_Ar.xlsx')"
   ]
  },
  {
   "cell_type": "code",
   "execution_count": 203,
   "metadata": {},
   "outputs": [],
   "source": [
    "# lista.append(nivel_espuma_scavenger2b3)\n",
    "lista.append(vazao_ar_scavenger2b3)\n",
    "# lista.append(valvula_dardo1_scavenger2b3)\n",
    "# lista.append(valvula_dardo2_scavenger2b3)\n",
    "# lista.append(valvula_ar_scavenger2b3)"
   ]
  },
  {
   "cell_type": "code",
   "execution_count": 204,
   "metadata": {},
   "outputs": [],
   "source": [
    "agrupados = pd.DataFrame(index=target.index)\n",
    "preenchidos = pd.DataFrame(index=target.index)\n",
    "for item in lista:\n",
    "    modelo = pd.DataFrame(index=target.index)\n",
    "    grupo = item.groupby(['gr']).median()\n",
    "    for linha in grupo.index:\n",
    "        modelo.loc[linha, grupo.columns[0]] = grupo.loc[linha, grupo.columns[0]]\n",
    "    agrupados = pd.concat([agrupados, modelo], axis = 1)\n",
    "    \n",
    "    repetir = False\n",
    "    anterior = 0\n",
    "    proximo = -1\n",
    "    # Determina quais linhas são NA\n",
    "    valores_na = modelo.isna()\n",
    "    for linha in target.index:\n",
    "        try:\n",
    "            # Se a linha for NA\n",
    "            if valores_na.iloc[linha].bool():\n",
    "                # Se não estiver marcado para repetir o valor anterior\n",
    "                if not repetir:\n",
    "                    # Se não está na última linha\n",
    "                    if linha < target.index.shape[0]:\n",
    "                        # Busca o próximo valor na coluna\n",
    "                        for busca_valor in range(linha+1, target.index.shape[0]):\n",
    "                            # Se é encontrado um valor (não-NA)\n",
    "                            if not valores_na.iloc[busca_valor].bool():\n",
    "                                # Esse valor é definido como o 'próximo'\n",
    "                                proximo = busca_valor\n",
    "                                break\n",
    "                    # Se existe um valor anterior à linha atual\n",
    "                    if anterior != linha:\n",
    "                        # Se existe um valor seguinte à linha atual (Busca próximo valor encontrou um resultado)\n",
    "                        if proximo != -1:\n",
    "                            # Define o valor atual como a média entre o anterior e o próximo\n",
    "                            valor = np.mean([modelo.iloc[anterior,0], modelo.iloc[proximo,0]])\n",
    "                        # Se não existe um valor seguinte à linha atual (Busca próximo valor não encontrou um resultado)\n",
    "                        else:\n",
    "                            # Repete o valor anterior\n",
    "                            valor = modelo.iloc[anterior,0]\n",
    "                    # Se não existe um valor anterior à linha atual\n",
    "                    else:\n",
    "                        # Se existe um valor seguinte à linha atual (Busca próximo valor encontrou um resultado)\n",
    "                        if proximo != -1:\n",
    "                            valor = modelo.iloc[proximo,0]\n",
    "                        # Se não existe um valor seguinte à linha atual (Busca próximo valor não encontrou um resultado)\n",
    "                        else:\n",
    "                            print('Problema na linha', linha)\n",
    "\n",
    "                # Atribui o valor à linha atual\n",
    "                modelo.iloc[linha,0] = valor\n",
    "\n",
    "                # Se o próximo valor não estiver na linha seguinte\n",
    "                if proximo > linha + 1:\n",
    "                    # Marca para repetir o valor atual\n",
    "                    repetir = True\n",
    "                # Se o próximo valor estiver na linha seguinte\n",
    "                else:\n",
    "                    repetir = False\n",
    "                    proximo = -1\n",
    "\n",
    "            anterior = linha\n",
    "        except:\n",
    "            pass\n",
    "        \n",
    "    \n",
    "    preenchidos = pd.concat([preenchidos, modelo], axis = 1)\n",
    "try:\n",
    "    agrupados.drop(index=-1, inplace=True)\n",
    "    preenchidos.drop(index=-1, inplace=True)\n",
    "except:\n",
    "    pass"
   ]
  },
  {
   "cell_type": "code",
   "execution_count": 205,
   "metadata": {},
   "outputs": [],
   "source": [
    "agrupados.to_excel(pasta + '04-ag_mediana_red_interd.xlsx', 'Planilha1', index=False)\n",
    "preenchidos.to_excel(pasta + '04-ag_preenchidos_mediana_red_interd.xlsx', 'Planilha1', index=False)"
   ]
  },
  {
   "cell_type": "code",
   "execution_count": null,
   "metadata": {},
   "outputs": [],
   "source": [
    "#agrupados.to_excel(pasta + '04-agrupados_mediana_red_interd.xlsx', 'Planilha1', index=False)\n",
    "#preenchidos.to_excel(pasta + '04-ag_preenchidos_mediana_red_interd.xlsx', 'Planilha1', index=False)"
   ]
  },
  {
   "cell_type": "code",
   "execution_count": null,
   "metadata": {},
   "outputs": [],
   "source": [
    "#agrupados.to_excel(pasta + 'agrupados_mediana_red.xlsx', 'Planilha1', index=False)\n",
    "#preenchidos.to_excel(pasta + 'ag_preenchidos_mediana_red.xlsx', 'Planilha1', index=False)"
   ]
  },
  {
   "cell_type": "code",
   "execution_count": null,
   "metadata": {},
   "outputs": [],
   "source": [
    "#agrupados.to_excel(pasta + 'agrupados_media.xlsx', 'Planilha1', index=False)\n",
    "#preenchidos.to_excel(pasta + 'ag_preenchidos_media.xlsx', 'Planilha1', index=False)"
   ]
  }
 ],
 "metadata": {
  "kernelspec": {
   "display_name": "Python 3",
   "language": "python",
   "name": "python3"
  },
  "language_info": {
   "codemirror_mode": {
    "name": "ipython",
    "version": 3
   },
   "file_extension": ".py",
   "mimetype": "text/x-python",
   "name": "python",
   "nbconvert_exporter": "python",
   "pygments_lexer": "ipython3",
   "version": "3.7.4"
  }
 },
 "nbformat": 4,
 "nbformat_minor": 2
}

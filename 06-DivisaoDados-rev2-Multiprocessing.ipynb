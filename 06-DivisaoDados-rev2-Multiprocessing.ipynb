{
 "cells": [
  {
   "cell_type": "markdown",
   "metadata": {},
   "source": [
    "## Substituído pelo 06-rev2.py para utilização de multiprocessamento\n",
    "### Modificação para evitar que dados anteriores ao intervalo de 2h sejam utilizados na amostragem\n",
    "#### Necessário devido a intervalos sem resultados de análise laboratorial\n",
    "#### Notebook usado para chamar funções em arquivos .py para execução em paralelo"
   ]
  },
  {
   "cell_type": "code",
   "execution_count": 23,
   "metadata": {},
   "outputs": [],
   "source": [
    "# Importa as bibliotecas\n",
    "import pandas as pd\n",
    "#import matplotlib.pyplot as plt\n",
    "#import seaborn as sns\n",
    "import numpy as np\n",
    "import multiprocessing\n",
    "import time"
   ]
  },
  {
   "cell_type": "code",
   "execution_count": 24,
   "metadata": {},
   "outputs": [],
   "source": [
    "# Importa as funções de divisão de dados\n",
    "import x06a_cx_alimentacao as cx_alim\n",
    "import x06b_cx_recirculacao as cx_reci\n",
    "import x06c_rougher1 as rg_01\n",
    "import x06d_rougher2 as rg_02\n",
    "import x06e_cleaner1 as cl_01\n",
    "import x06f_cleaner2 as cl_02\n",
    "import x06g_recleaner as recleaner\n",
    "import x06h_scavenger1b1 as sc_1b1\n",
    "import x06i_scavenger1b2 as sc_1b2\n",
    "import x06j_scavenger1b3 as sc_1b3\n",
    "import x06k_scavenger2b1 as sc_2b1\n",
    "import x06l_scavenger2b2 as sc_2b2\n",
    "import x06m_scavenger2b3 as sc_2b3"
   ]
  },
  {
   "cell_type": "code",
   "execution_count": 25,
   "metadata": {},
   "outputs": [],
   "source": [
    "target = pd.read_excel('T_Conceicao.xlsx')"
   ]
  },
  {
   "cell_type": "code",
   "execution_count": 4,
   "metadata": {},
   "outputs": [
    {
     "name": "stdout",
     "output_type": "stream",
     "text": [
      "Stored 'target' (DataFrame)\n"
     ]
    }
   ],
   "source": [
    "%store target"
   ]
  },
  {
   "cell_type": "code",
   "execution_count": 27,
   "metadata": {},
   "outputs": [
    {
     "name": "stdout",
     "output_type": "stream",
     "text": [
      "Fim da leitura rougher 1\n"
     ]
    }
   ],
   "source": [
    "# Parâmetros que serão usados\n",
    "nivel_espuma_rougher1_uso = True\n",
    "vazao_ar_rougher1_uso = True\n",
    "valvula_dardo1_rougher1_uso = True # False\n",
    "valvula_dardo2_rougher1_uso = True # False\n",
    "valvula_ar_rougher1_uso = True # False\n",
    "\n",
    "rougher1 = pd.read_excel('Dados_Conceicao_Rougher1.xlsx')\n",
    "print('Fim da leitura rougher 1')\n",
    "\n",
    "# Transforma a primeira linha em cabeçalho\n",
    "rougher1.columns = rougher1.iloc[0]\n",
    "\n",
    "# Remove as duas primeiras linhas, que contêm cabeçalhos e nomes de TAGs\n",
    "rougher1 = rougher1.drop([0,1])\n",
    "\n",
    "# Refaz a numeração do index\n",
    "rougher1.reset_index(drop=True, inplace=True)\n",
    "\n",
    "# Preenche os dados faltantes com zeros\n",
    "rougher1 = rougher1.fillna(0)"
   ]
  },
  {
   "cell_type": "code",
   "execution_count": 28,
   "metadata": {},
   "outputs": [
    {
     "name": "stdout",
     "output_type": "stream",
     "text": [
      "RG_0001 colunas separadas\n"
     ]
    }
   ],
   "source": [
    "base = bkp_base\n",
    "fim = bkp_fim\n",
    "\n",
    "# Seleciona duas colunas, formando um agrupamento com os dados de um parâmetro\n",
    "nivel_espuma_rougher1 = rougher1.iloc[:,[0,1]]\n",
    "vazao_ar_rougher1 = rougher1.iloc[:,[2,3]]\n",
    "valvula_dardo1_rougher1 = rougher1.iloc[:,[4,5]]\n",
    "valvula_dardo2_rougher1 = rougher1.iloc[:,[6,7]]\n",
    "valvula_ar_rougher1 = rougher1.iloc[:,[8,9]]\n",
    "\n",
    "print('RG_0001 colunas separadas')"
   ]
  },
  {
   "cell_type": "code",
   "execution_count": 29,
   "metadata": {},
   "outputs": [
    {
     "ename": "TypeError",
     "evalue": "'Series' object is not callable",
     "output_type": "error",
     "traceback": [
      "\u001b[1;31m---------------------------------------------------------------------------\u001b[0m",
      "\u001b[1;31mTypeError\u001b[0m                                 Traceback (most recent call last)",
      "\u001b[1;32m<ipython-input-29-15d43103e2af>\u001b[0m in \u001b[0;36m<module>\u001b[1;34m\u001b[0m\n\u001b[0;32m      6\u001b[0m \u001b[0mvazao_ar_rougher1\u001b[0m \u001b[1;33m=\u001b[0m \u001b[0mvazao_ar_rougher1\u001b[0m\u001b[1;33m[\u001b[0m\u001b[0mselecao\u001b[0m\u001b[1;33m]\u001b[0m\u001b[1;33m\u001b[0m\u001b[1;33m\u001b[0m\u001b[0m\n\u001b[0;32m      7\u001b[0m \u001b[1;33m\u001b[0m\u001b[0m\n\u001b[1;32m----> 8\u001b[1;33m \u001b[0mselecao\u001b[0m \u001b[1;33m=\u001b[0m \u001b[1;33m(\u001b[0m\u001b[0mvalvula_dardo1_rougher1\u001b[0m\u001b[1;33m.\u001b[0m\u001b[0miloc\u001b[0m\u001b[1;33m[\u001b[0m\u001b[1;33m:\u001b[0m\u001b[1;33m,\u001b[0m\u001b[1;36m0\u001b[0m\u001b[1;33m]\u001b[0m \u001b[1;33m!=\u001b[0m \u001b[1;36m0\u001b[0m\u001b[1;33m)\u001b[0m \u001b[1;33m&\u001b[0m \u001b[1;33m(\u001b[0m\u001b[0mvalvula_dardo1_rougher1\u001b[0m\u001b[1;33m.\u001b[0m\u001b[0miloc\u001b[0m\u001b[1;33m[\u001b[0m\u001b[1;33m:\u001b[0m\u001b[1;33m,\u001b[0m\u001b[1;36m0\u001b[0m\u001b[1;33m]\u001b[0m \u001b[1;33m!=\u001b[0m \u001b[1;34m\" \"\u001b[0m\u001b[1;33m)\u001b[0m \u001b[1;33m&\u001b[0m \u001b[1;33m(\u001b[0m\u001b[0mvalvula_dardo1_rougher1\u001b[0m\u001b[1;33m.\u001b[0m\u001b[0miloc\u001b[0m\u001b[1;33m[\u001b[0m\u001b[1;33m:\u001b[0m\u001b[1;33m,\u001b[0m\u001b[1;36m1\u001b[0m\u001b[1;33m]\u001b[0m \u001b[1;33m!=\u001b[0m \u001b[1;36m0\u001b[0m\u001b[1;33m)\u001b[0m \u001b[1;33m(\u001b[0m\u001b[0mvalvula_dardo1_rougher1\u001b[0m\u001b[1;33m.\u001b[0m\u001b[0miloc\u001b[0m\u001b[1;33m[\u001b[0m\u001b[1;33m:\u001b[0m\u001b[1;33m,\u001b[0m\u001b[1;36m1\u001b[0m\u001b[1;33m]\u001b[0m \u001b[1;33m!=\u001b[0m \u001b[1;34m\"Bad\"\u001b[0m\u001b[1;33m)\u001b[0m\u001b[1;33m\u001b[0m\u001b[1;33m\u001b[0m\u001b[0m\n\u001b[0m\u001b[0;32m      9\u001b[0m \u001b[0mvalvula_dardo1_rougher1\u001b[0m \u001b[1;33m=\u001b[0m \u001b[0mvalvula_dardo1_rougher1\u001b[0m\u001b[1;33m[\u001b[0m\u001b[0mselecao\u001b[0m\u001b[1;33m]\u001b[0m\u001b[1;33m\u001b[0m\u001b[1;33m\u001b[0m\u001b[0m\n\u001b[0;32m     10\u001b[0m \u001b[1;33m\u001b[0m\u001b[0m\n",
      "\u001b[1;31mTypeError\u001b[0m: 'Series' object is not callable"
     ]
    }
   ],
   "source": [
    "# Retira os dados nulos\n",
    "selecao = (nivel_espuma_rougher1.iloc[:,0] != 0) & (nivel_espuma_rougher1.iloc[:,0] != \" \") & (nivel_espuma_rougher1.iloc[:,1] != 0) & (nivel_espuma_rougher1.iloc[:,1] != \"Bad\")\n",
    "nivel_espuma_rougher1 = nivel_espuma_rougher1[selecao]\n",
    "\n",
    "selecao = (vazao_ar_rougher1.iloc[:,0] != 0) & (vazao_ar_rougher1.iloc[:,0] != \" \") & (vazao_ar_rougher1.iloc[:,1] != 0) & (vazao_ar_rougher1.iloc[:,1] != \"Bad\")\n",
    "vazao_ar_rougher1 = vazao_ar_rougher1[selecao]\n",
    "\n",
    "selecao = (valvula_dardo1_rougher1.iloc[:,0] != 0) & (valvula_dardo1_rougher1.iloc[:,0] != \" \") & (valvula_dardo1_rougher1.iloc[:,1] != 0) (valvula_dardo1_rougher1.iloc[:,1] != \"Bad\")\n",
    "valvula_dardo1_rougher1 = valvula_dardo1_rougher1[selecao]\n",
    "\n",
    "selecao = (valvula_dardo2_rougher1.iloc[:,0] != 0) & (valvula_dardo2_rougher1.iloc[:,0] != \" \") & (valvula_dardo2_rougher1.iloc[:,1] != 0) & (valvula_dardo2_rougher1.iloc[:,1] != \"Bad\")\n",
    "valvula_dardo2_rougher1 = valvula_dardo2_rougher1[selecao]\n",
    "\n",
    "selecao = (valvula_ar_rougher1.iloc[:,0] != 0) & (valvula_ar_rougher1.iloc[:,0] != \" \") & (valvula_ar_rougher1.iloc[:,1] != 0) & (valvula_ar_rougher1.iloc[:,1] != \"Bad\")\n",
    "valvula_ar_rougher1 = valvula_ar_rougher1[selecao]\n",
    "\n",
    "print('RG_0001 com nulos removidos')"
   ]
  },
  {
   "cell_type": "code",
   "execution_count": 33,
   "metadata": {},
   "outputs": [
    {
     "data": {
      "text/plain": [
       "0         True\n",
       "1         True\n",
       "2         True\n",
       "3         True\n",
       "4         True\n",
       "5         True\n",
       "6         True\n",
       "7         True\n",
       "8         True\n",
       "9         True\n",
       "10        True\n",
       "11        True\n",
       "12        True\n",
       "13        True\n",
       "14        True\n",
       "15        True\n",
       "16        True\n",
       "17        True\n",
       "18        True\n",
       "19        True\n",
       "20        True\n",
       "21        True\n",
       "22        True\n",
       "23        True\n",
       "24        True\n",
       "25        True\n",
       "26        True\n",
       "27        True\n",
       "28        True\n",
       "29        True\n",
       "          ... \n",
       "504918    True\n",
       "504919    True\n",
       "504920    True\n",
       "504921    True\n",
       "504922    True\n",
       "504923    True\n",
       "504924    True\n",
       "504925    True\n",
       "504926    True\n",
       "504927    True\n",
       "504928    True\n",
       "504929    True\n",
       "504930    True\n",
       "504931    True\n",
       "504932    True\n",
       "504933    True\n",
       "504934    True\n",
       "504935    True\n",
       "504936    True\n",
       "504937    True\n",
       "504938    True\n",
       "504939    True\n",
       "504940    True\n",
       "504941    True\n",
       "504942    True\n",
       "504943    True\n",
       "504944    True\n",
       "504945    True\n",
       "504946    True\n",
       "504947    True\n",
       "Name: Abertura válvula dardo 1, Length: 504948, dtype: bool"
      ]
     },
     "execution_count": 33,
     "metadata": {},
     "output_type": "execute_result"
    }
   ],
   "source": [
    "valvula_dardo1_rougher1.iloc[:,1] != \"Bad\""
   ]
  },
  {
   "cell_type": "code",
   "execution_count": 26,
   "metadata": {},
   "outputs": [],
   "source": [
    "starttime = time.time()\n",
    "\n",
    "# Pasta para armazenamento dos dados\n",
    "pasta = 'teste/'\n",
    "\n",
    "# Data a partir da qual coletar os dados (horário da primeira análise)\n",
    "# base = target.iloc[1007][0] ## Abril 01\n",
    "#base = target.iloc[0][0] ## Primeiro dado\n",
    "base = pd.Timestamp('2019-03-01')\n",
    "#base = target.iloc[794][0]\n",
    "base = base - np.timedelta64(2, 'h') ## Antes do primeiro, para que pegue todos os dados disponíveis\n",
    "bkp_base = base\n",
    "# Data até a qual coletar os dados (última análise)\n",
    "#fim = target.iloc[1094,0] ## Abril 10\n",
    "#fim = target.iloc[-1,0]\n",
    "fim = pd.Timestamp('2019-03-03')\n",
    "bkp_fim = fim\n",
    "\n",
    "# Renomeia o cabeçalho de target\n",
    "target.columns = ['DataHora', 'Ferro', 'Silica']\n",
    "\n",
    "# Selecao dos target a partir da data inicial até a data final\n",
    "selecao = target.iloc[:,0] > base\n",
    "selecao = selecao & (target.iloc[:,0] <= fim)\n",
    "target = target[selecao]\n",
    "\n",
    "# Zera o índice\n",
    "target.reset_index(drop=True, inplace=True)\n",
    "\n",
    "target.to_excel(pasta + 'T_Conceicao.xlsx', 'Planilha1', index=False)\n",
    "\n",
    "# Cria uma lista de processos a serem executados de forma paralela\n",
    "#processes = []\n",
    "#funcoes = [cx_alim, cx_reci, rg_01, rg_02, cl_01, cl_02, recleaner, sc_1b1, sc_1b2, sc_1b3, sc_2b1, sc_2b2, sc_2b3]\n",
    "#funcoes = [recleaner, sc_2b1]\n",
    "#funcoes = [cx_alim]\n",
    "\n",
    "#pool = multiprocessing.Pool() #use all available cores, otherwise specify the number you want as an argument\n",
    "#for func in funcoes:\n",
    "#    pool.apply_async(func.executar, args=(bkp_base,bkp_fim,pasta,target,))\n",
    "#pool.close()\n",
    "#pool.join()\n",
    "\n",
    "#for func in funcoes:\n",
    "#    func.executar(bkp_base,bkp_fim,pasta,target)\n",
    "# for func in funcoes:\n",
    "    # p = multiprocessing.Process(target=func.executar, args=(bkp_base,bkp_fim,pasta,target,))\n",
    "    # processes.append(p)\n",
    "    # p.start()\n",
    "\n",
    "# for process in processes:\n",
    "    # process.join()\n",
    "    \n",
    "#print('Foram gastos {} segundos'.format(time.time() - starttime))"
   ]
  },
  {
   "cell_type": "code",
   "execution_count": 6,
   "metadata": {
    "collapsed": true
   },
   "outputs": [
    {
     "name": "stdout",
     "output_type": "stream",
     "text": [
      "Fim da leitura recleaner\n"
     ]
    },
    {
     "ename": "NameError",
     "evalue": "name 'cleaner2' is not defined",
     "output_type": "error",
     "traceback": [
      "\u001b[1;31m---------------------------------------------------------------------------\u001b[0m",
      "\u001b[1;31mNameError\u001b[0m                                 Traceback (most recent call last)",
      "\u001b[1;32m<ipython-input-6-5cbc3e36d042>\u001b[0m in \u001b[0;36m<module>\u001b[1;34m\u001b[0m\n\u001b[1;32m----> 1\u001b[1;33m \u001b[0mrecleaner\u001b[0m\u001b[1;33m.\u001b[0m\u001b[0mexecutar\u001b[0m\u001b[1;33m(\u001b[0m\u001b[0mbkp_base\u001b[0m\u001b[1;33m,\u001b[0m\u001b[0mbkp_fim\u001b[0m\u001b[1;33m,\u001b[0m\u001b[0mpasta\u001b[0m\u001b[1;33m,\u001b[0m\u001b[0mtarget\u001b[0m\u001b[1;33m)\u001b[0m\u001b[1;33m\u001b[0m\u001b[1;33m\u001b[0m\u001b[0m\n\u001b[0m",
      "\u001b[1;32m~\\Dropbox\\Mestrado\\Dissertação\\Sandbox\\Conceicao01\\x06g_recleaner.py\u001b[0m in \u001b[0;36mexecutar\u001b[1;34m(bkp_base, bkp_fim, pasta, target)\u001b[0m\n\u001b[0;32m     16\u001b[0m \u001b[1;33m\u001b[0m\u001b[0m\n\u001b[0;32m     17\u001b[0m     \u001b[1;31m# Preenche os dados faltantes com zeros\u001b[0m\u001b[1;33m\u001b[0m\u001b[1;33m\u001b[0m\u001b[1;33m\u001b[0m\u001b[0m\n\u001b[1;32m---> 18\u001b[1;33m     \u001b[0mrecleaner\u001b[0m \u001b[1;33m=\u001b[0m \u001b[0mcleaner2\u001b[0m\u001b[1;33m.\u001b[0m\u001b[0mfillna\u001b[0m\u001b[1;33m(\u001b[0m\u001b[1;36m0\u001b[0m\u001b[1;33m)\u001b[0m\u001b[1;33m\u001b[0m\u001b[1;33m\u001b[0m\u001b[0m\n\u001b[0m\u001b[0;32m     19\u001b[0m \u001b[1;33m\u001b[0m\u001b[0m\n\u001b[0;32m     20\u001b[0m     \u001b[0mbase\u001b[0m \u001b[1;33m=\u001b[0m \u001b[0mbkp_base\u001b[0m\u001b[1;33m\u001b[0m\u001b[1;33m\u001b[0m\u001b[0m\n",
      "\u001b[1;31mNameError\u001b[0m: name 'cleaner2' is not defined"
     ]
    }
   ],
   "source": [
    "recleaner.executar(bkp_base,bkp_fim,pasta,target)"
   ]
  },
  {
   "cell_type": "code",
   "execution_count": 10,
   "metadata": {
    "collapsed": true
   },
   "outputs": [
    {
     "name": "stdout",
     "output_type": "stream",
     "text": [
      "Fim da leitura scavenger 2 B1\n",
      "SC_2B1 com nulos removidos\n",
      "SC_2B1 a iniciar agrupamentos\n"
     ]
    },
    {
     "ename": "ValueError",
     "evalue": "Lengths must match",
     "output_type": "error",
     "traceback": [
      "\u001b[1;31m---------------------------------------------------------------------------\u001b[0m",
      "\u001b[1;31mValueError\u001b[0m                                Traceback (most recent call last)",
      "\u001b[1;32m<ipython-input-10-17639e37d880>\u001b[0m in \u001b[0;36m<module>\u001b[1;34m\u001b[0m\n\u001b[1;32m----> 1\u001b[1;33m \u001b[0msc_2b1\u001b[0m\u001b[1;33m.\u001b[0m\u001b[0mexecutar\u001b[0m\u001b[1;33m(\u001b[0m\u001b[0mbkp_base\u001b[0m\u001b[1;33m,\u001b[0m\u001b[0mbkp_fim\u001b[0m\u001b[1;33m,\u001b[0m\u001b[0mpasta\u001b[0m\u001b[1;33m,\u001b[0m\u001b[0mtarget\u001b[0m\u001b[1;33m)\u001b[0m\u001b[1;33m\u001b[0m\u001b[1;33m\u001b[0m\u001b[0m\n\u001b[0m",
      "\u001b[1;32m~\\Dropbox\\Mestrado\\Dissertação\\Sandbox\\Conceicao01\\x06k_scavenger2b1.py\u001b[0m in \u001b[0;36mexecutar\u001b[1;34m(bkp_base, bkp_fim, pasta, target)\u001b[0m\n\u001b[0;32m     85\u001b[0m \u001b[1;33m\u001b[0m\u001b[0m\n\u001b[0;32m     86\u001b[0m         \u001b[1;31m# Critério de seleção dos dados com base na data e hora\u001b[0m\u001b[1;33m\u001b[0m\u001b[1;33m\u001b[0m\u001b[1;33m\u001b[0m\u001b[0m\n\u001b[1;32m---> 87\u001b[1;33m         \u001b[0mselecao\u001b[0m \u001b[1;33m=\u001b[0m \u001b[1;33m(\u001b[0m\u001b[0mnivel_espuma_scavenger2b1\u001b[0m\u001b[1;33m.\u001b[0m\u001b[0miloc\u001b[0m\u001b[1;33m[\u001b[0m\u001b[1;33m:\u001b[0m\u001b[1;33m,\u001b[0m\u001b[1;36m0\u001b[0m\u001b[1;33m]\u001b[0m \u001b[1;33m<=\u001b[0m \u001b[0mamostra\u001b[0m\u001b[1;33m)\u001b[0m\u001b[1;33m\u001b[0m\u001b[1;33m\u001b[0m\u001b[0m\n\u001b[0m\u001b[0;32m     88\u001b[0m \u001b[1;33m\u001b[0m\u001b[0m\n\u001b[0;32m     89\u001b[0m         \u001b[0mnivel_espuma_scavenger2b1\u001b[0m\u001b[1;33m.\u001b[0m\u001b[0mloc\u001b[0m\u001b[1;33m[\u001b[0m\u001b[0mselecao\u001b[0m\u001b[1;33m,\u001b[0m \u001b[1;34m'gr'\u001b[0m\u001b[1;33m]\u001b[0m \u001b[1;33m=\u001b[0m \u001b[0mi\u001b[0m\u001b[1;33m\u001b[0m\u001b[1;33m\u001b[0m\u001b[0m\n",
      "\u001b[1;32mC:\\ProgramData\\Anaconda3\\lib\\site-packages\\pandas\\core\\ops.py\u001b[0m in \u001b[0;36mwrapper\u001b[1;34m(self, other, axis)\u001b[0m\n\u001b[0;32m   1714\u001b[0m \u001b[1;33m\u001b[0m\u001b[0m\n\u001b[0;32m   1715\u001b[0m             res_values = dispatch_to_index_op(op, self, other,\n\u001b[1;32m-> 1716\u001b[1;33m                                               pd.DatetimeIndex)\n\u001b[0m\u001b[0;32m   1717\u001b[0m \u001b[1;33m\u001b[0m\u001b[0m\n\u001b[0;32m   1718\u001b[0m             return self._constructor(res_values, index=self.index,\n",
      "\u001b[1;32mC:\\ProgramData\\Anaconda3\\lib\\site-packages\\pandas\\core\\ops.py\u001b[0m in \u001b[0;36mdispatch_to_index_op\u001b[1;34m(op, left, right, index_class)\u001b[0m\n\u001b[0;32m   1189\u001b[0m         \u001b[0mleft_idx\u001b[0m \u001b[1;33m=\u001b[0m \u001b[0mleft_idx\u001b[0m\u001b[1;33m.\u001b[0m\u001b[0m_shallow_copy\u001b[0m\u001b[1;33m(\u001b[0m\u001b[0mfreq\u001b[0m\u001b[1;33m=\u001b[0m\u001b[1;32mNone\u001b[0m\u001b[1;33m)\u001b[0m\u001b[1;33m\u001b[0m\u001b[1;33m\u001b[0m\u001b[0m\n\u001b[0;32m   1190\u001b[0m     \u001b[1;32mtry\u001b[0m\u001b[1;33m:\u001b[0m\u001b[1;33m\u001b[0m\u001b[1;33m\u001b[0m\u001b[0m\n\u001b[1;32m-> 1191\u001b[1;33m         \u001b[0mresult\u001b[0m \u001b[1;33m=\u001b[0m \u001b[0mop\u001b[0m\u001b[1;33m(\u001b[0m\u001b[0mleft_idx\u001b[0m\u001b[1;33m,\u001b[0m \u001b[0mright\u001b[0m\u001b[1;33m)\u001b[0m\u001b[1;33m\u001b[0m\u001b[1;33m\u001b[0m\u001b[0m\n\u001b[0m\u001b[0;32m   1192\u001b[0m     \u001b[1;32mexcept\u001b[0m \u001b[0mNullFrequencyError\u001b[0m\u001b[1;33m:\u001b[0m\u001b[1;33m\u001b[0m\u001b[1;33m\u001b[0m\u001b[0m\n\u001b[0;32m   1193\u001b[0m         \u001b[1;31m# DatetimeIndex and TimedeltaIndex with freq == None raise ValueError\u001b[0m\u001b[1;33m\u001b[0m\u001b[1;33m\u001b[0m\u001b[1;33m\u001b[0m\u001b[0m\n",
      "\u001b[1;32mC:\\ProgramData\\Anaconda3\\lib\\site-packages\\pandas\\core\\indexes\\datetimelike.py\u001b[0m in \u001b[0;36mwrapper\u001b[1;34m(self, other)\u001b[0m\n\u001b[0;32m    115\u001b[0m                 \u001b[0mother\u001b[0m \u001b[1;33m=\u001b[0m \u001b[0mother\u001b[0m\u001b[1;33m.\u001b[0m\u001b[0m_values\u001b[0m\u001b[1;33m\u001b[0m\u001b[1;33m\u001b[0m\u001b[0m\n\u001b[0;32m    116\u001b[0m \u001b[1;33m\u001b[0m\u001b[0m\n\u001b[1;32m--> 117\u001b[1;33m             \u001b[0mresult\u001b[0m \u001b[1;33m=\u001b[0m \u001b[0mop\u001b[0m\u001b[1;33m(\u001b[0m\u001b[0mself\u001b[0m\u001b[1;33m.\u001b[0m\u001b[0m_data\u001b[0m\u001b[1;33m,\u001b[0m \u001b[0mmaybe_unwrap_index\u001b[0m\u001b[1;33m(\u001b[0m\u001b[0mother\u001b[0m\u001b[1;33m)\u001b[0m\u001b[1;33m)\u001b[0m\u001b[1;33m\u001b[0m\u001b[1;33m\u001b[0m\u001b[0m\n\u001b[0m\u001b[0;32m    118\u001b[0m             \u001b[1;32mreturn\u001b[0m \u001b[0mresult\u001b[0m\u001b[1;33m\u001b[0m\u001b[1;33m\u001b[0m\u001b[0m\n\u001b[0;32m    119\u001b[0m \u001b[1;33m\u001b[0m\u001b[0m\n",
      "\u001b[1;32mC:\\ProgramData\\Anaconda3\\lib\\site-packages\\pandas\\core\\arrays\\datetimes.py\u001b[0m in \u001b[0;36mwrapper\u001b[1;34m(self, other)\u001b[0m\n\u001b[0;32m    154\u001b[0m             \u001b[1;32mreturn\u001b[0m \u001b[0mops\u001b[0m\u001b[1;33m.\u001b[0m\u001b[0minvalid_comparison\u001b[0m\u001b[1;33m(\u001b[0m\u001b[0mself\u001b[0m\u001b[1;33m,\u001b[0m \u001b[0mother\u001b[0m\u001b[1;33m,\u001b[0m \u001b[0mop\u001b[0m\u001b[1;33m)\u001b[0m\u001b[1;33m\u001b[0m\u001b[1;33m\u001b[0m\u001b[0m\n\u001b[0;32m    155\u001b[0m         \u001b[1;32melif\u001b[0m \u001b[0mlen\u001b[0m\u001b[1;33m(\u001b[0m\u001b[0mother\u001b[0m\u001b[1;33m)\u001b[0m \u001b[1;33m!=\u001b[0m \u001b[0mlen\u001b[0m\u001b[1;33m(\u001b[0m\u001b[0mself\u001b[0m\u001b[1;33m)\u001b[0m\u001b[1;33m:\u001b[0m\u001b[1;33m\u001b[0m\u001b[1;33m\u001b[0m\u001b[0m\n\u001b[1;32m--> 156\u001b[1;33m             \u001b[1;32mraise\u001b[0m \u001b[0mValueError\u001b[0m\u001b[1;33m(\u001b[0m\u001b[1;34m\"Lengths must match\"\u001b[0m\u001b[1;33m)\u001b[0m\u001b[1;33m\u001b[0m\u001b[1;33m\u001b[0m\u001b[0m\n\u001b[0m\u001b[0;32m    157\u001b[0m         \u001b[1;32melse\u001b[0m\u001b[1;33m:\u001b[0m\u001b[1;33m\u001b[0m\u001b[1;33m\u001b[0m\u001b[0m\n\u001b[0;32m    158\u001b[0m             \u001b[1;32mif\u001b[0m \u001b[0misinstance\u001b[0m\u001b[1;33m(\u001b[0m\u001b[0mother\u001b[0m\u001b[1;33m,\u001b[0m \u001b[0mlist\u001b[0m\u001b[1;33m)\u001b[0m\u001b[1;33m:\u001b[0m\u001b[1;33m\u001b[0m\u001b[1;33m\u001b[0m\u001b[0m\n",
      "\u001b[1;31mValueError\u001b[0m: Lengths must match"
     ]
    }
   ],
   "source": [
    "sc_2b1.executar(bkp_base,bkp_fim,pasta,target)"
   ]
  },
  {
   "cell_type": "code",
   "execution_count": null,
   "metadata": {},
   "outputs": [],
   "source": [
    "print('Foram gastos {} segundos'.format(time.time() - starttime))"
   ]
  },
  {
   "cell_type": "markdown",
   "metadata": {},
   "source": [
    "x.str.strip()\n",
    "isinstance(x, str)"
   ]
  },
  {
   "cell_type": "markdown",
   "metadata": {},
   "source": [
    "selecao = rougher2.iloc[:,0] == isinstance(rougher2.iloc[:,0], str)\n",
    "rougher2[selecao].apply(lambda x: 'no' if isinstance(x, str) else x )"
   ]
  }
 ],
 "metadata": {
  "kernelspec": {
   "display_name": "Python 3",
   "language": "python",
   "name": "python3"
  },
  "language_info": {
   "codemirror_mode": {
    "name": "ipython",
    "version": 3
   },
   "file_extension": ".py",
   "mimetype": "text/x-python",
   "name": "python",
   "nbconvert_exporter": "python",
   "pygments_lexer": "ipython3",
   "version": "3.7.4"
  }
 },
 "nbformat": 4,
 "nbformat_minor": 2
}

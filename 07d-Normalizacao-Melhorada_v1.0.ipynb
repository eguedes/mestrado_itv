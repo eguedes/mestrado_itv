{
 "cells": [
  {
   "cell_type": "code",
   "execution_count": 22,
   "metadata": {
    "colab": {},
    "colab_type": "code",
    "id": "1rRo8oNqZ-Rj"
   },
   "outputs": [],
   "source": [
    "from __future__ import absolute_import, division, print_function, unicode_literals\n",
    "\n",
    "import pathlib\n",
    "\n",
    "import matplotlib.axes as mtpaxes\n",
    "import matplotlib.pyplot as plt\n",
    "import pandas as pd\n",
    "import seaborn as sns"
   ]
  },
  {
   "cell_type": "code",
   "execution_count": 23,
   "metadata": {},
   "outputs": [],
   "source": [
    "# Gráficos do matplotlib interativos\n",
    "%matplotlib notebook"
   ]
  },
  {
   "cell_type": "markdown",
   "metadata": {
    "colab_type": "text",
    "id": "gFh9ne3FZ-On"
   },
   "source": [
    "### Get the data"
   ]
  },
  {
   "cell_type": "code",
   "execution_count": 108,
   "metadata": {
    "colab": {},
    "colab_type": "code",
    "id": "CiX2FI4gZtTt"
   },
   "outputs": [],
   "source": [
    "pasta = 'Experimentos/03-Marco/'\n",
    "#pasta = 'Delay/05-Maio/'\n",
    "raw_input = pd.read_excel(pasta + '04-ag_preenchidos_mediana_red_interd_15.xlsx', header=0)\n",
    "#raw_input = pd.read_excel(pasta + '04-ag_preenchidos_mediana_red_interd_15.xlsx', header=0)\n",
    "raw_target = pd.read_excel(pasta + 'T_Conceicao.xlsx', header=0)"
   ]
  },
  {
   "cell_type": "code",
   "execution_count": 109,
   "metadata": {},
   "outputs": [],
   "source": [
    "dataset = pd.concat([raw_input, raw_target.iloc[:,1]], axis=1)\n",
    "#dataset_mar"
   ]
  },
  {
   "cell_type": "markdown",
   "metadata": {
    "colab_type": "text",
    "id": "gFh9ne3FZ-On"
   },
   "source": [
    "### Get the reference data"
   ]
  },
  {
   "cell_type": "code",
   "execution_count": 50,
   "metadata": {
    "colab": {},
    "colab_type": "code",
    "id": "CiX2FI4gZtTt"
   },
   "outputs": [],
   "source": [
    "pasta_mar = 'Delay/03-Marco/'\n",
    "#raw_input_mar = pd.read_excel(pasta_mar + '04-ag_preenchidos_mediana_red_interd.xlsx', header=0)\n",
    "#raw_target_mar = pd.read_excel(pasta_mar + 'T_Conceicao.xlsx', header=0)"
   ]
  },
  {
   "cell_type": "code",
   "execution_count": 27,
   "metadata": {},
   "outputs": [],
   "source": [
    "dataset_mar = pd.concat([raw_input_mar, raw_target_mar.iloc[:,1]], axis=1)\n",
    "#dataset_mar"
   ]
  },
  {
   "cell_type": "code",
   "execution_count": 28,
   "metadata": {},
   "outputs": [
    {
     "data": {
      "text/html": [
       "<div>\n",
       "<style scoped>\n",
       "    .dataframe tbody tr th:only-of-type {\n",
       "        vertical-align: middle;\n",
       "    }\n",
       "\n",
       "    .dataframe tbody tr th {\n",
       "        vertical-align: top;\n",
       "    }\n",
       "\n",
       "    .dataframe thead th {\n",
       "        text-align: right;\n",
       "    }\n",
       "</style>\n",
       "<table border=\"1\" class=\"dataframe\">\n",
       "  <thead>\n",
       "    <tr style=\"text-align: right;\">\n",
       "      <th></th>\n",
       "      <th>count</th>\n",
       "      <th>mean</th>\n",
       "      <th>std</th>\n",
       "      <th>min</th>\n",
       "      <th>25%</th>\n",
       "      <th>50%</th>\n",
       "      <th>75%</th>\n",
       "      <th>max</th>\n",
       "    </tr>\n",
       "  </thead>\n",
       "  <tbody>\n",
       "    <tr>\n",
       "      <td>Nível</td>\n",
       "      <td>359.0</td>\n",
       "      <td>74.886747</td>\n",
       "      <td>11.736306</td>\n",
       "      <td>49.747911</td>\n",
       "      <td>67.221052</td>\n",
       "      <td>75.220802</td>\n",
       "      <td>83.383085</td>\n",
       "      <td>99.130333</td>\n",
       "    </tr>\n",
       "    <tr>\n",
       "      <td>Densidade</td>\n",
       "      <td>359.0</td>\n",
       "      <td>1.753227</td>\n",
       "      <td>0.048744</td>\n",
       "      <td>1.415644</td>\n",
       "      <td>1.737266</td>\n",
       "      <td>1.755784</td>\n",
       "      <td>1.781586</td>\n",
       "      <td>1.862148</td>\n",
       "    </tr>\n",
       "    <tr>\n",
       "      <td>Vazão Volumétrica</td>\n",
       "      <td>359.0</td>\n",
       "      <td>472.677055</td>\n",
       "      <td>38.102839</td>\n",
       "      <td>305.363007</td>\n",
       "      <td>448.758972</td>\n",
       "      <td>470.771317</td>\n",
       "      <td>500.601379</td>\n",
       "      <td>553.314758</td>\n",
       "    </tr>\n",
       "    <tr>\n",
       "      <td>Vazão amina</td>\n",
       "      <td>359.0</td>\n",
       "      <td>29.293373</td>\n",
       "      <td>5.427670</td>\n",
       "      <td>10.439628</td>\n",
       "      <td>27.878524</td>\n",
       "      <td>30.895241</td>\n",
       "      <td>32.600727</td>\n",
       "      <td>37.898506</td>\n",
       "    </tr>\n",
       "    <tr>\n",
       "      <td>Vazão amido</td>\n",
       "      <td>359.0</td>\n",
       "      <td>126.686815</td>\n",
       "      <td>29.936466</td>\n",
       "      <td>24.588369</td>\n",
       "      <td>106.687237</td>\n",
       "      <td>121.665554</td>\n",
       "      <td>147.771339</td>\n",
       "      <td>230.197571</td>\n",
       "    </tr>\n",
       "    <tr>\n",
       "      <td>Densidade.1</td>\n",
       "      <td>359.0</td>\n",
       "      <td>1.184155</td>\n",
       "      <td>0.076411</td>\n",
       "      <td>0.581270</td>\n",
       "      <td>1.145441</td>\n",
       "      <td>1.167624</td>\n",
       "      <td>1.204876</td>\n",
       "      <td>1.633056</td>\n",
       "    </tr>\n",
       "    <tr>\n",
       "      <td>Vazão Volumétrica.1</td>\n",
       "      <td>359.0</td>\n",
       "      <td>727.251332</td>\n",
       "      <td>76.968048</td>\n",
       "      <td>496.046600</td>\n",
       "      <td>667.124603</td>\n",
       "      <td>718.226257</td>\n",
       "      <td>798.052612</td>\n",
       "      <td>853.583496</td>\n",
       "    </tr>\n",
       "    <tr>\n",
       "      <td>Nível de espuma</td>\n",
       "      <td>359.0</td>\n",
       "      <td>61.355249</td>\n",
       "      <td>6.462689</td>\n",
       "      <td>43.941080</td>\n",
       "      <td>55.509912</td>\n",
       "      <td>59.801571</td>\n",
       "      <td>64.661747</td>\n",
       "      <td>80.306435</td>\n",
       "    </tr>\n",
       "    <tr>\n",
       "      <td>Nível de espuma.1</td>\n",
       "      <td>359.0</td>\n",
       "      <td>44.767361</td>\n",
       "      <td>10.611213</td>\n",
       "      <td>15.856609</td>\n",
       "      <td>35.584718</td>\n",
       "      <td>44.161472</td>\n",
       "      <td>50.187093</td>\n",
       "      <td>75.227211</td>\n",
       "    </tr>\n",
       "    <tr>\n",
       "      <td>Nível de espuma.2</td>\n",
       "      <td>359.0</td>\n",
       "      <td>29.047837</td>\n",
       "      <td>4.369889</td>\n",
       "      <td>19.545065</td>\n",
       "      <td>25.172544</td>\n",
       "      <td>29.718994</td>\n",
       "      <td>31.571105</td>\n",
       "      <td>40.499702</td>\n",
       "    </tr>\n",
       "    <tr>\n",
       "      <td>Abertura válvula dardo 1</td>\n",
       "      <td>359.0</td>\n",
       "      <td>22.635489</td>\n",
       "      <td>6.881768</td>\n",
       "      <td>6.347720</td>\n",
       "      <td>17.751444</td>\n",
       "      <td>20.997841</td>\n",
       "      <td>26.991713</td>\n",
       "      <td>43.380779</td>\n",
       "    </tr>\n",
       "    <tr>\n",
       "      <td>Nível de espuma.3</td>\n",
       "      <td>359.0</td>\n",
       "      <td>27.926574</td>\n",
       "      <td>4.344783</td>\n",
       "      <td>15.052523</td>\n",
       "      <td>24.987111</td>\n",
       "      <td>29.295303</td>\n",
       "      <td>30.037835</td>\n",
       "      <td>40.043018</td>\n",
       "    </tr>\n",
       "    <tr>\n",
       "      <td>Nível de espuma.4</td>\n",
       "      <td>359.0</td>\n",
       "      <td>19.043801</td>\n",
       "      <td>9.276603</td>\n",
       "      <td>-3.189483</td>\n",
       "      <td>16.248269</td>\n",
       "      <td>17.018813</td>\n",
       "      <td>20.060866</td>\n",
       "      <td>88.876057</td>\n",
       "    </tr>\n",
       "    <tr>\n",
       "      <td>Nível de espuma.5</td>\n",
       "      <td>359.0</td>\n",
       "      <td>7.530246</td>\n",
       "      <td>11.708032</td>\n",
       "      <td>-6.843697</td>\n",
       "      <td>3.028354</td>\n",
       "      <td>6.005947</td>\n",
       "      <td>9.338001</td>\n",
       "      <td>78.248718</td>\n",
       "    </tr>\n",
       "    <tr>\n",
       "      <td>Vazão de ar</td>\n",
       "      <td>359.0</td>\n",
       "      <td>734.756522</td>\n",
       "      <td>55.201179</td>\n",
       "      <td>654.443604</td>\n",
       "      <td>699.874268</td>\n",
       "      <td>700.165771</td>\n",
       "      <td>785.972275</td>\n",
       "      <td>899.353851</td>\n",
       "    </tr>\n",
       "  </tbody>\n",
       "</table>\n",
       "</div>"
      ],
      "text/plain": [
       "                          count        mean        std         min  \\\n",
       "Nível                     359.0   74.886747  11.736306   49.747911   \n",
       "Densidade                 359.0    1.753227   0.048744    1.415644   \n",
       "Vazão Volumétrica         359.0  472.677055  38.102839  305.363007   \n",
       "Vazão amina               359.0   29.293373   5.427670   10.439628   \n",
       "Vazão amido               359.0  126.686815  29.936466   24.588369   \n",
       "Densidade.1               359.0    1.184155   0.076411    0.581270   \n",
       "Vazão Volumétrica.1       359.0  727.251332  76.968048  496.046600   \n",
       "Nível de espuma           359.0   61.355249   6.462689   43.941080   \n",
       "Nível de espuma.1         359.0   44.767361  10.611213   15.856609   \n",
       "Nível de espuma.2         359.0   29.047837   4.369889   19.545065   \n",
       "Abertura válvula dardo 1  359.0   22.635489   6.881768    6.347720   \n",
       "Nível de espuma.3         359.0   27.926574   4.344783   15.052523   \n",
       "Nível de espuma.4         359.0   19.043801   9.276603   -3.189483   \n",
       "Nível de espuma.5         359.0    7.530246  11.708032   -6.843697   \n",
       "Vazão de ar               359.0  734.756522  55.201179  654.443604   \n",
       "\n",
       "                                 25%         50%         75%         max  \n",
       "Nível                      67.221052   75.220802   83.383085   99.130333  \n",
       "Densidade                   1.737266    1.755784    1.781586    1.862148  \n",
       "Vazão Volumétrica         448.758972  470.771317  500.601379  553.314758  \n",
       "Vazão amina                27.878524   30.895241   32.600727   37.898506  \n",
       "Vazão amido               106.687237  121.665554  147.771339  230.197571  \n",
       "Densidade.1                 1.145441    1.167624    1.204876    1.633056  \n",
       "Vazão Volumétrica.1       667.124603  718.226257  798.052612  853.583496  \n",
       "Nível de espuma            55.509912   59.801571   64.661747   80.306435  \n",
       "Nível de espuma.1          35.584718   44.161472   50.187093   75.227211  \n",
       "Nível de espuma.2          25.172544   29.718994   31.571105   40.499702  \n",
       "Abertura válvula dardo 1   17.751444   20.997841   26.991713   43.380779  \n",
       "Nível de espuma.3          24.987111   29.295303   30.037835   40.043018  \n",
       "Nível de espuma.4          16.248269   17.018813   20.060866   88.876057  \n",
       "Nível de espuma.5           3.028354    6.005947    9.338001   78.248718  \n",
       "Vazão de ar               699.874268  700.165771  785.972275  899.353851  "
      ]
     },
     "execution_count": 28,
     "metadata": {},
     "output_type": "execute_result"
    }
   ],
   "source": [
    "#train_stats = train_dataset.describe()\n",
    "train_stats = dataset_mar.describe()\n",
    "train_stats.pop('Ferro')\n",
    "train_stats = train_stats.transpose()\n",
    "train_stats"
   ]
  },
  {
   "cell_type": "code",
   "execution_count": 57,
   "metadata": {},
   "outputs": [],
   "source": [
    "raw_input_mar = pd.read_excel(pasta_mar + '00-Faixas.xlsx', header=0)\n",
    "raw_input_mar = raw_input_mar.transpose()\n",
    "# Renomeia o cabeçalho de target\n",
    "raw_input_mar.columns = ['max', 'min']"
   ]
  },
  {
   "cell_type": "code",
   "execution_count": 63,
   "metadata": {},
   "outputs": [],
   "source": [
    "train_stats = raw_input_mar"
   ]
  },
  {
   "cell_type": "markdown",
   "metadata": {
    "colab_type": "text",
    "id": "mRklxK5s388r"
   },
   "source": [
    "### Normalize the data\n",
    "\n",
    "Look again at the `train_stats` block above and note how different the ranges of each feature are."
   ]
  },
  {
   "cell_type": "code",
   "execution_count": 110,
   "metadata": {},
   "outputs": [],
   "source": [
    "normed_dataset = pd.DataFrame(index=dataset.index)\n",
    "for parametro in dataset.drop(columns='Ferro').columns:\n",
    "    param = (dataset[parametro] - train_stats['min'].loc[parametro]) / (train_stats['max'].loc[parametro] - \n",
    "                                                                        train_stats['min'].loc[parametro])\n",
    "    \n",
    "    normed_dataset = pd.concat([normed_dataset, param], axis = 1)\n",
    "\n",
    "normed_dataset.fillna(0,inplace=True)"
   ]
  },
  {
   "cell_type": "markdown",
   "metadata": {
    "colab_type": "text",
    "id": "vgGQuV-yqYZH"
   },
   "source": [
    "## Conclusion"
   ]
  },
  {
   "cell_type": "code",
   "execution_count": 46,
   "metadata": {},
   "outputs": [],
   "source": [
    "normed_dataset.to_excel(pasta + '05-mediana_red_final_norm.xlsx', 'Planilha1', index=False)"
   ]
  },
  {
   "cell_type": "code",
   "execution_count": 9,
   "metadata": {},
   "outputs": [],
   "source": [
    "normed_dataset.to_excel(pasta + '06-mediana_red_final_norm_independente.xlsx', 'Planilha1', index=False)"
   ]
  },
  {
   "cell_type": "code",
   "execution_count": 111,
   "metadata": {},
   "outputs": [],
   "source": [
    "normed_dataset.to_excel(pasta + '06-mediana_red_final_norm_extrapolado.xlsx', 'Planilha1', index=False)"
   ]
  }
 ],
 "metadata": {
  "colab": {
   "collapsed_sections": [],
   "name": "Qualificacao_replica.ipynb",
   "private_outputs": true,
   "provenance": [],
   "toc_visible": true,
   "version": "0.3.2"
  },
  "kernelspec": {
   "display_name": "Python 3",
   "language": "python",
   "name": "python3"
  },
  "language_info": {
   "codemirror_mode": {
    "name": "ipython",
    "version": 3
   },
   "file_extension": ".py",
   "mimetype": "text/x-python",
   "name": "python",
   "nbconvert_exporter": "python",
   "pygments_lexer": "ipython3",
   "version": "3.7.4"
  }
 },
 "nbformat": 4,
 "nbformat_minor": 1
}
